{
 "cells": [
  {
   "cell_type": "markdown",
   "id": "16113135",
   "metadata": {},
   "source": [
    "# Week 6 Assignment - Wine Dataset Classification"
   ]
  },
  {
   "cell_type": "code",
   "execution_count": 1,
   "id": "1686c431",
   "metadata": {},
   "outputs": [],
   "source": [
    "# Import necessary libraries\n",
    "import numpy as np\n",
    "import pandas as pd\n",
    "from sklearn.datasets import load_wine\n",
    "from sklearn.model_selection import train_test_split, GridSearchCV\n",
    "from sklearn.linear_model import LogisticRegression\n",
    "from sklearn.tree import DecisionTreeClassifier\n",
    "from sklearn.ensemble import AdaBoostClassifier, BaggingClassifier, RandomForestClassifier, GradientBoostingClassifier, VotingClassifier\n",
    "from sklearn.metrics import accuracy_score"
   ]
  },
  {
   "cell_type": "markdown",
   "id": "85db4c5f",
   "metadata": {},
   "source": [
    "## Load Dataset and Split"
   ]
  },
  {
   "cell_type": "code",
   "execution_count": 2,
   "id": "96866f60",
   "metadata": {},
   "outputs": [
    {
     "name": "stdout",
     "output_type": "stream",
     "text": [
      "Dataset shape: (178, 13)\n",
      "Number of classes: 3\n",
      "Classes: [0 1 2]\n"
     ]
    }
   ],
   "source": [
    "# Load the wine dataset\n",
    "wine = load_wine()\n",
    "X = wine.data\n",
    "y = wine.target\n",
    "\n",
    "print(\"Dataset shape:\", X.shape)\n",
    "print(\"Number of classes:\", len(np.unique(y)))\n",
    "print(\"Classes:\", np.unique(y))"
   ]
  },
  {
   "cell_type": "code",
   "execution_count": 3,
   "id": "d0c2e1a9",
   "metadata": {},
   "outputs": [
    {
     "name": "stdout",
     "output_type": "stream",
     "text": [
      "Training set size: 124\n",
      "Test set size: 54\n"
     ]
    }
   ],
   "source": [
    "# Split the dataset into train and test set (70:30 ratio, random_state=1)\n",
    "X_train, X_test, y_train, y_test = train_test_split(X, y, test_size=0.3, random_state=1)\n",
    "\n",
    "print(\"Training set size:\", X_train.shape[0])\n",
    "print(\"Test set size:\", X_test.shape[0])"
   ]
  },
  {
   "cell_type": "markdown",
   "id": "6b50294e",
   "metadata": {},
   "source": [
    "## Question 1 & 2: Logistic Regression"
   ]
  },
  {
   "cell_type": "code",
   "execution_count": 4,
   "id": "bfe84228",
   "metadata": {},
   "outputs": [
    {
     "name": "stdout",
     "output_type": "stream",
     "text": [
      "Accuracy on test dataset: 0.944\n",
      "\n",
      "Question 1 Answer: 0.944\n"
     ]
    }
   ],
   "source": [
    "# Train Logistic Regression model with specified parameters\n",
    "lr_model = LogisticRegression(max_iter=10000, C=0.5, random_state=1, solver='sag')\n",
    "lr_model.fit(X_train, y_train)\n",
    "\n",
    "# Make predictions on test set\n",
    "y_pred_lr = lr_model.predict(X_test)\n",
    "\n",
    "# Calculate accuracy on test dataset\n",
    "accuracy_lr = accuracy_score(y_test, y_pred_lr)\n",
    "\n",
    "print(f\"Accuracy on test dataset: {accuracy_lr:.3f}\")\n",
    "print(f\"\\nQuestion 1 Answer: {accuracy_lr:.3f}\")"
   ]
  },
  {
   "cell_type": "code",
   "execution_count": 5,
   "id": "bd7842b9",
   "metadata": {},
   "outputs": [
    {
     "name": "stdout",
     "output_type": "stream",
     "text": [
      "Number of iterations to converge: 4750\n",
      "\n",
      "Question 2 Answer: 4750\n"
     ]
    }
   ],
   "source": [
    "# Get the number of iterations to converge\n",
    "n_iterations = lr_model.n_iter_[0]\n",
    "\n",
    "print(f\"Number of iterations to converge: {n_iterations}\")\n",
    "print(f\"\\nQuestion 2 Answer: {n_iterations}\")"
   ]
  },
  {
   "cell_type": "markdown",
   "id": "cf50896d",
   "metadata": {},
   "source": [
    "## Question 3 & 4: Decision Tree with GridSearchCV"
   ]
  },
  {
   "cell_type": "code",
   "execution_count": 6,
   "id": "827f9cdb",
   "metadata": {},
   "outputs": [
    {
     "name": "stdout",
     "output_type": "stream",
     "text": [
      "Training Decision Tree GridSearchCV...\n",
      "GridSearchCV training completed!\n"
     ]
    }
   ],
   "source": [
    "# Define the parameter grid for Decision Tree\n",
    "dt_param_grid = {\n",
    "    'criterion': ['entropy', 'gini'],\n",
    "    'splitter': ['random', 'best'],\n",
    "    'min_samples_leaf': [2, 4, 6, 8, 10],\n",
    "    'max_depth': [3, 4, 5, 6]\n",
    "}\n",
    "\n",
    "# Create DecisionTreeClassifier model\n",
    "dt_model = DecisionTreeClassifier(random_state=1)\n",
    "\n",
    "# Perform GridSearchCV\n",
    "dt_grid_search = GridSearchCV(\n",
    "    estimator=dt_model,\n",
    "    param_grid=dt_param_grid,\n",
    "    cv=4,\n",
    "    scoring='accuracy',\n",
    "    n_jobs=-1\n",
    ")\n",
    "\n",
    "# Fit the grid search\n",
    "print(\"Training Decision Tree GridSearchCV...\")\n",
    "dt_grid_search.fit(X_train, y_train)\n",
    "print(\"GridSearchCV training completed!\")"
   ]
  },
  {
   "cell_type": "code",
   "execution_count": 7,
   "id": "7f43eb54",
   "metadata": {},
   "outputs": [
    {
     "name": "stdout",
     "output_type": "stream",
     "text": [
      "Best Parameters:\n",
      "{'criterion': 'gini', 'max_depth': 4, 'min_samples_leaf': 2, 'splitter': 'best'}\n"
     ]
    }
   ],
   "source": [
    "# Get the best model\n",
    "best_dt_model = dt_grid_search.best_estimator_\n",
    "\n",
    "# Display best parameters\n",
    "print(\"Best Parameters:\")\n",
    "print(dt_grid_search.best_params_)"
   ]
  },
  {
   "cell_type": "code",
   "execution_count": 8,
   "id": "a5303369",
   "metadata": {},
   "outputs": [
    {
     "name": "stdout",
     "output_type": "stream",
     "text": [
      "Accuracy on test dataset: 0.907\n",
      "\n",
      "Question 3 Answer: 0.907\n"
     ]
    }
   ],
   "source": [
    "# Make predictions on test set using the best model\n",
    "y_pred_dt = best_dt_model.predict(X_test)\n",
    "\n",
    "# Calculate accuracy on test dataset\n",
    "accuracy_dt = accuracy_score(y_test, y_pred_dt)\n",
    "\n",
    "print(f\"Accuracy on test dataset: {accuracy_dt:.3f}\")\n",
    "print(f\"\\nQuestion 3 Answer: {accuracy_dt:.3f}\")"
   ]
  },
  {
   "cell_type": "code",
   "execution_count": 9,
   "id": "6ad962b6",
   "metadata": {},
   "outputs": [
    {
     "name": "stdout",
     "output_type": "stream",
     "text": [
      "Best max_depth: 4\n",
      "\n",
      "Question 4 Answer: 4\n"
     ]
    }
   ],
   "source": [
    "# Get the best max_depth value\n",
    "best_max_depth = dt_grid_search.best_params_['max_depth']\n",
    "\n",
    "print(f\"Best max_depth: {best_max_depth}\")\n",
    "print(f\"\\nQuestion 4 Answer: {best_max_depth}\")"
   ]
  },
  {
   "cell_type": "markdown",
   "id": "c579be90",
   "metadata": {},
   "source": [
    "## Question 5 & 6: AdaBoost with GridSearchCV"
   ]
  },
  {
   "cell_type": "code",
   "execution_count": 10,
   "id": "0af9fd1a",
   "metadata": {},
   "outputs": [
    {
     "name": "stdout",
     "output_type": "stream",
     "text": [
      "Training AdaBoost GridSearchCV...\n",
      "GridSearchCV training completed!\n"
     ]
    }
   ],
   "source": [
    "# Define the parameter grid for AdaBoost\n",
    "ada_param_grid = {\n",
    "    'n_estimators': [100, 500, 1000],\n",
    "    'learning_rate': [0.5, 1, 2]\n",
    "}\n",
    "\n",
    "# Create AdaBoostClassifier model\n",
    "ada_model = AdaBoostClassifier(random_state=1)\n",
    "\n",
    "# Perform GridSearchCV\n",
    "ada_grid_search = GridSearchCV(\n",
    "    estimator=ada_model,\n",
    "    param_grid=ada_param_grid,\n",
    "    cv=4,\n",
    "    scoring='accuracy',\n",
    "    n_jobs=-1\n",
    ")\n",
    "\n",
    "# Fit the grid search\n",
    "print(\"Training AdaBoost GridSearchCV...\")\n",
    "ada_grid_search.fit(X_train, y_train)\n",
    "print(\"GridSearchCV training completed!\")"
   ]
  },
  {
   "cell_type": "code",
   "execution_count": 11,
   "id": "06845625",
   "metadata": {},
   "outputs": [
    {
     "name": "stdout",
     "output_type": "stream",
     "text": [
      "Best Parameters:\n",
      "{'learning_rate': 0.5, 'n_estimators': 100}\n"
     ]
    }
   ],
   "source": [
    "# Get the best model\n",
    "best_ada_model = ada_grid_search.best_estimator_\n",
    "\n",
    "# Display best parameters\n",
    "print(\"Best Parameters:\")\n",
    "print(ada_grid_search.best_params_)"
   ]
  },
  {
   "cell_type": "code",
   "execution_count": 12,
   "id": "7f0bfc89",
   "metadata": {},
   "outputs": [
    {
     "name": "stdout",
     "output_type": "stream",
     "text": [
      "Accuracy on test dataset: 0.963\n",
      "\n",
      "Question 5 Answer: 0.963\n"
     ]
    }
   ],
   "source": [
    "# Make predictions on test set using the best model\n",
    "y_pred_ada = best_ada_model.predict(X_test)\n",
    "\n",
    "# Calculate accuracy on test dataset\n",
    "accuracy_ada = accuracy_score(y_test, y_pred_ada)\n",
    "\n",
    "print(f\"Accuracy on test dataset: {accuracy_ada:.3f}\")\n",
    "print(f\"\\nQuestion 5 Answer: {accuracy_ada:.3f}\")"
   ]
  },
  {
   "cell_type": "code",
   "execution_count": 13,
   "id": "5b10e4ef",
   "metadata": {},
   "outputs": [
    {
     "name": "stdout",
     "output_type": "stream",
     "text": [
      "Best n_estimators: 100\n",
      "\n",
      "Question 6 Answer: 100\n"
     ]
    }
   ],
   "source": [
    "# Get the best n_estimators value\n",
    "best_n_estimators = ada_grid_search.best_params_['n_estimators']\n",
    "\n",
    "print(f\"Best n_estimators: {best_n_estimators}\")\n",
    "print(f\"\\nQuestion 6 Answer: {best_n_estimators}\")"
   ]
  },
  {
   "cell_type": "markdown",
   "id": "2b1c2671",
   "metadata": {},
   "source": [
    "## Question 7: Voting Classifier"
   ]
  },
  {
   "cell_type": "code",
   "execution_count": 14,
   "id": "418e9c6b",
   "metadata": {},
   "outputs": [
    {
     "name": "stdout",
     "output_type": "stream",
     "text": [
      "Training Voting Classifier...\n",
      "Training completed!\n"
     ]
    }
   ],
   "source": [
    "# Create individual estimators with random_state=1\n",
    "bagging_clf = BaggingClassifier(random_state=1)\n",
    "rf_clf = RandomForestClassifier(random_state=1)\n",
    "gb_clf = GradientBoostingClassifier(random_state=1)\n",
    "\n",
    "# Create Voting Classifier\n",
    "voting_clf = VotingClassifier(\n",
    "    estimators=[\n",
    "        ('bagging', bagging_clf),\n",
    "        ('random_forest', rf_clf),\n",
    "        ('gradient_boosting', gb_clf)\n",
    "    ],\n",
    "    voting='hard'\n",
    ")\n",
    "\n",
    "# Train the Voting Classifier\n",
    "print(\"Training Voting Classifier...\")\n",
    "voting_clf.fit(X_train, y_train)\n",
    "print(\"Training completed!\")"
   ]
  },
  {
   "cell_type": "code",
   "execution_count": 15,
   "id": "cb614e90",
   "metadata": {},
   "outputs": [
    {
     "name": "stdout",
     "output_type": "stream",
     "text": [
      "Accuracy on test dataset: 0.981\n",
      "\n",
      "Question 7 Answer: 0.981\n"
     ]
    }
   ],
   "source": [
    "# Make predictions on test set\n",
    "y_pred_voting = voting_clf.predict(X_test)\n",
    "\n",
    "# Calculate accuracy on test dataset\n",
    "accuracy_voting = accuracy_score(y_test, y_pred_voting)\n",
    "\n",
    "print(f\"Accuracy on test dataset: {accuracy_voting:.3f}\")\n",
    "print(f\"\\nQuestion 7 Answer: {accuracy_voting:.3f}\")"
   ]
  },
  {
   "cell_type": "markdown",
   "id": "ae992792",
   "metadata": {},
   "source": [
    "## Summary of All Answers"
   ]
  },
  {
   "cell_type": "code",
   "execution_count": 16,
   "id": "ef89ce42",
   "metadata": {},
   "outputs": [
    {
     "name": "stdout",
     "output_type": "stream",
     "text": [
      "============================================================\n",
      "SUMMARY OF ALL ANSWERS\n",
      "============================================================\n",
      "\n",
      "Question 1 - Logistic Regression Accuracy: 0.944\n",
      "Question 2 - Logistic Regression Iterations: 4750\n",
      "\n",
      "Question 3 - Decision Tree Accuracy: 0.907\n",
      "Question 4 - Decision Tree Best max_depth: 4\n",
      "\n",
      "Question 5 - AdaBoost Accuracy: 0.963\n",
      "Question 6 - AdaBoost Best n_estimators: 100\n",
      "\n",
      "Question 7 - Voting Classifier Accuracy: 0.981\n",
      "============================================================\n"
     ]
    }
   ],
   "source": [
    "# Print all answers in summary\n",
    "print(\"=\" * 60)\n",
    "print(\"SUMMARY OF ALL ANSWERS\")\n",
    "print(\"=\" * 60)\n",
    "print(f\"\\nQuestion 1 - Logistic Regression Accuracy: {accuracy_lr:.3f}\")\n",
    "print(f\"Question 2 - Logistic Regression Iterations: {n_iterations}\")\n",
    "print(f\"\\nQuestion 3 - Decision Tree Accuracy: {accuracy_dt:.3f}\")\n",
    "print(f\"Question 4 - Decision Tree Best max_depth: {best_max_depth}\")\n",
    "print(f\"\\nQuestion 5 - AdaBoost Accuracy: {accuracy_ada:.3f}\")\n",
    "print(f\"Question 6 - AdaBoost Best n_estimators: {best_n_estimators}\")\n",
    "print(f\"\\nQuestion 7 - Voting Classifier Accuracy: {accuracy_voting:.3f}\")\n",
    "print(\"=\" * 60)"
   ]
  }
 ],
 "metadata": {
  "kernelspec": {
   "display_name": ".venv",
   "language": "python",
   "name": "python3"
  },
  "language_info": {
   "codemirror_mode": {
    "name": "ipython",
    "version": 3
   },
   "file_extension": ".py",
   "mimetype": "text/x-python",
   "name": "python",
   "nbconvert_exporter": "python",
   "pygments_lexer": "ipython3",
   "version": "3.13.7"
  }
 },
 "nbformat": 4,
 "nbformat_minor": 5
}
