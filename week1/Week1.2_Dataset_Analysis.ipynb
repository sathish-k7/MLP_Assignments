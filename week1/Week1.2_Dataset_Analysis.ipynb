{
 "cells": [
  {
   "cell_type": "markdown",
   "id": "67a5e56f",
   "metadata": {},
   "source": [
    "# Week 1.2 Dataset Analysis\n",
    "\n",
    "This notebook analyzes the Week1_GA_dataset.csv to answer additional questions involving data selection and filtering."
   ]
  },
  {
   "cell_type": "code",
   "execution_count": 1,
   "id": "cf779eaa",
   "metadata": {},
   "outputs": [
    {
     "name": "stdout",
     "output_type": "stream",
     "text": [
      "Dataset shape: (10000, 12)\n",
      "\n",
      "Column names:\n",
      "Index 0: Date\n",
      "Index 1: Year\n",
      "Index 2: Locality\n",
      "Index 3: Estimated Value\n",
      "Index 4: Sale Price\n",
      "Index 5: Property\n",
      "Index 6: Residential\n",
      "Index 7: num_rooms\n",
      "Index 8: num_bathrooms\n",
      "Index 9: carpet_area\n",
      "Index 10: property_tax_rate\n",
      "Index 11: Face\n",
      "\n",
      "First few rows:\n"
     ]
    },
    {
     "data": {
      "text/html": [
       "<div>\n",
       "<style scoped>\n",
       "    .dataframe tbody tr th:only-of-type {\n",
       "        vertical-align: middle;\n",
       "    }\n",
       "\n",
       "    .dataframe tbody tr th {\n",
       "        vertical-align: top;\n",
       "    }\n",
       "\n",
       "    .dataframe thead th {\n",
       "        text-align: right;\n",
       "    }\n",
       "</style>\n",
       "<table border=\"1\" class=\"dataframe\">\n",
       "  <thead>\n",
       "    <tr style=\"text-align: right;\">\n",
       "      <th></th>\n",
       "      <th>Date</th>\n",
       "      <th>Year</th>\n",
       "      <th>Locality</th>\n",
       "      <th>Estimated Value</th>\n",
       "      <th>Sale Price</th>\n",
       "      <th>Property</th>\n",
       "      <th>Residential</th>\n",
       "      <th>num_rooms</th>\n",
       "      <th>num_bathrooms</th>\n",
       "      <th>carpet_area</th>\n",
       "      <th>property_tax_rate</th>\n",
       "      <th>Face</th>\n",
       "    </tr>\n",
       "  </thead>\n",
       "  <tbody>\n",
       "    <tr>\n",
       "      <th>0</th>\n",
       "      <td>2009-01-02</td>\n",
       "      <td>2009</td>\n",
       "      <td>Waterbury</td>\n",
       "      <td>111440.0</td>\n",
       "      <td>185000.0</td>\n",
       "      <td>Single Family</td>\n",
       "      <td>Detached House</td>\n",
       "      <td>3</td>\n",
       "      <td>3</td>\n",
       "      <td>996.0</td>\n",
       "      <td>1.025953</td>\n",
       "      <td>South</td>\n",
       "    </tr>\n",
       "    <tr>\n",
       "      <th>1</th>\n",
       "      <td>2009-01-02</td>\n",
       "      <td>2009</td>\n",
       "      <td>Bridgeport</td>\n",
       "      <td>124670.0</td>\n",
       "      <td>150000.0</td>\n",
       "      <td>Two Family</td>\n",
       "      <td>Duplex</td>\n",
       "      <td>4</td>\n",
       "      <td>3</td>\n",
       "      <td>1241.0</td>\n",
       "      <td>1.025953</td>\n",
       "      <td>South</td>\n",
       "    </tr>\n",
       "    <tr>\n",
       "      <th>2</th>\n",
       "      <td>2009-01-02</td>\n",
       "      <td>2009</td>\n",
       "      <td>Waterbury</td>\n",
       "      <td>55720.0</td>\n",
       "      <td>140000.0</td>\n",
       "      <td>Single Family</td>\n",
       "      <td>Detached House</td>\n",
       "      <td>3</td>\n",
       "      <td>2</td>\n",
       "      <td>910.0</td>\n",
       "      <td>1.025953</td>\n",
       "      <td>South</td>\n",
       "    </tr>\n",
       "    <tr>\n",
       "      <th>3</th>\n",
       "      <td>2009-01-02</td>\n",
       "      <td>2009</td>\n",
       "      <td>Bridgeport</td>\n",
       "      <td>4775276.0</td>\n",
       "      <td>272900.0</td>\n",
       "      <td>Single Family</td>\n",
       "      <td>Detached House</td>\n",
       "      <td>3</td>\n",
       "      <td>1</td>\n",
       "      <td>971.0</td>\n",
       "      <td>1.025953</td>\n",
       "      <td>East</td>\n",
       "    </tr>\n",
       "    <tr>\n",
       "      <th>4</th>\n",
       "      <td>2009-01-02</td>\n",
       "      <td>2009</td>\n",
       "      <td>Bridgeport</td>\n",
       "      <td>112351.0</td>\n",
       "      <td>210000.0</td>\n",
       "      <td>NaN</td>\n",
       "      <td>Detached House</td>\n",
       "      <td>3</td>\n",
       "      <td>2</td>\n",
       "      <td>1092.0</td>\n",
       "      <td>1.025953</td>\n",
       "      <td>East</td>\n",
       "    </tr>\n",
       "  </tbody>\n",
       "</table>\n",
       "</div>"
      ],
      "text/plain": [
       "         Date  Year    Locality  Estimated Value  Sale Price       Property  \\\n",
       "0  2009-01-02  2009   Waterbury         111440.0    185000.0  Single Family   \n",
       "1  2009-01-02  2009  Bridgeport         124670.0    150000.0     Two Family   \n",
       "2  2009-01-02  2009   Waterbury          55720.0    140000.0  Single Family   \n",
       "3  2009-01-02  2009  Bridgeport        4775276.0    272900.0  Single Family   \n",
       "4  2009-01-02  2009  Bridgeport         112351.0    210000.0            NaN   \n",
       "\n",
       "      Residential  num_rooms  num_bathrooms  carpet_area  property_tax_rate  \\\n",
       "0  Detached House          3              3        996.0           1.025953   \n",
       "1          Duplex          4              3       1241.0           1.025953   \n",
       "2  Detached House          3              2        910.0           1.025953   \n",
       "3  Detached House          3              1        971.0           1.025953   \n",
       "4  Detached House          3              2       1092.0           1.025953   \n",
       "\n",
       "    Face  \n",
       "0  South  \n",
       "1  South  \n",
       "2  South  \n",
       "3   East  \n",
       "4   East  "
      ]
     },
     "execution_count": 1,
     "metadata": {},
     "output_type": "execute_result"
    }
   ],
   "source": [
    "# Import required libraries\n",
    "import pandas as pd\n",
    "import numpy as np\n",
    "\n",
    "# Load the dataset\n",
    "df = pd.read_csv('Week1_GA_dataset.csv')\n",
    "\n",
    "# Replace '?' with NaN as per instructions\n",
    "df = df.replace('?', np.nan)\n",
    "\n",
    "print(f\"Dataset shape: {df.shape}\")\n",
    "print(f\"\\nColumn names:\")\n",
    "for i, col in enumerate(df.columns):\n",
    "    print(f\"Index {i}: {col}\")\n",
    "\n",
    "print(f\"\\nFirst few rows:\")\n",
    "df.head()"
   ]
  },
  {
   "cell_type": "markdown",
   "id": "599321e6",
   "metadata": {},
   "source": [
    "## Question 1: Even indexed rows - Value at [0, 3]"
   ]
  },
  {
   "cell_type": "code",
   "execution_count": 2,
   "id": "8a2de12d",
   "metadata": {},
   "outputs": [
    {
     "name": "stdout",
     "output_type": "stream",
     "text": [
      "Original dataset shape: (10000, 12)\n",
      "Even indexed rows shape: (5000, 12)\n",
      "\n",
      "Value at [0, 3] in even indexed rows: 111440.0\n",
      "Column 3 name: Estimated Value\n"
     ]
    }
   ],
   "source": [
    "# Select all even indexed rows (0, 2, 4, 6, ...)\n",
    "even_rows = df.iloc[::2]  # Start from 0, step by 2\n",
    "\n",
    "print(f\"Original dataset shape: {df.shape}\")\n",
    "print(f\"Even indexed rows shape: {even_rows.shape}\")\n",
    "\n",
    "# Get value at 0th row, 3rd column in the selected dataframe\n",
    "value_0_3 = even_rows.iloc[0, 3]\n",
    "print(f\"\\nValue at [0, 3] in even indexed rows: {value_0_3}\")\n",
    "print(f\"Column 3 name: {df.columns[3]}\")"
   ]
  },
  {
   "cell_type": "markdown",
   "id": "4a4a8459",
   "metadata": {},
   "source": [
    "## Question 2: Even indexed rows - Value at [332, 3]"
   ]
  },
  {
   "cell_type": "code",
   "execution_count": 3,
   "id": "8febd194",
   "metadata": {},
   "outputs": [
    {
     "name": "stdout",
     "output_type": "stream",
     "text": [
      "Value at [332, 3] in even indexed rows: 256200.0\n",
      "Column 3 name: Estimated Value\n"
     ]
    }
   ],
   "source": [
    "# Get value at 332nd row, 3rd column in even indexed rows\n",
    "value_332_3_even = even_rows.iloc[332, 3]\n",
    "print(f\"Value at [332, 3] in even indexed rows: {value_332_3_even}\")\n",
    "print(f\"Column 3 name: {df.columns[3]}\")"
   ]
  },
  {
   "cell_type": "markdown",
   "id": "97f333cb",
   "metadata": {},
   "source": [
    "## Question 3: Odd indexed rows - Value at [332, 3]"
   ]
  },
  {
   "cell_type": "code",
   "execution_count": 4,
   "id": "14fd79ce",
   "metadata": {},
   "outputs": [
    {
     "name": "stdout",
     "output_type": "stream",
     "text": [
      "Odd indexed rows shape: (5000, 12)\n",
      "Value at [332, 3] in odd indexed rows: 352940.0\n",
      "Column 3 name: Estimated Value\n"
     ]
    }
   ],
   "source": [
    "# Select all odd indexed rows (1, 3, 5, 7, ...)\n",
    "odd_rows = df.iloc[1::2]  # Start from 1, step by 2\n",
    "\n",
    "print(f\"Odd indexed rows shape: {odd_rows.shape}\")\n",
    "\n",
    "# Get value at 332nd row, 3rd column in odd indexed rows\n",
    "value_332_3_odd = odd_rows.iloc[332, 3]\n",
    "print(f\"Value at [332, 3] in odd indexed rows: {value_332_3_odd}\")\n",
    "print(f\"Column 3 name: {df.columns[3]}\")"
   ]
  },
  {
   "cell_type": "markdown",
   "id": "cd659917",
   "metadata": {},
   "source": [
    "## Question 4: Odd indexed columns - Value at [100, 5]"
   ]
  },
  {
   "cell_type": "code",
   "execution_count": 5,
   "id": "44df7c0c",
   "metadata": {},
   "outputs": [
    {
     "name": "stdout",
     "output_type": "stream",
     "text": [
      "Original columns: ['Date', 'Year', 'Locality', 'Estimated Value', 'Sale Price', 'Property', 'Residential', 'num_rooms', 'num_bathrooms', 'carpet_area', 'property_tax_rate', 'Face']\n",
      "Odd indexed columns: ['Year', 'Estimated Value', 'Property', 'num_rooms', 'carpet_area', 'Face']\n",
      "Odd columns shape: (10000, 6)\n",
      "\n",
      "Value at [100, 5] in odd indexed columns: West\n",
      "Column 5 name in odd columns: Face\n"
     ]
    }
   ],
   "source": [
    "# Select all odd indexed columns (1, 3, 5, 7, ...)\n",
    "odd_columns = df.iloc[:, 1::2]  # All rows, odd columns starting from 1\n",
    "\n",
    "print(f\"Original columns: {list(df.columns)}\")\n",
    "print(f\"Odd indexed columns: {list(odd_columns.columns)}\")\n",
    "print(f\"Odd columns shape: {odd_columns.shape}\")\n",
    "\n",
    "# Get value at 100th row, 5th column in the selected dataframe\n",
    "value_100_5_odd_cols = odd_columns.iloc[100, 5]\n",
    "print(f\"\\nValue at [100, 5] in odd indexed columns: {value_100_5_odd_cols}\")\n",
    "print(f\"Column 5 name in odd columns: {odd_columns.columns[5]}\")"
   ]
  },
  {
   "cell_type": "markdown",
   "id": "ba26af01",
   "metadata": {},
   "source": [
    "## Question 5: Even indexed columns and even indexed rows - Value at [255, 3]"
   ]
  },
  {
   "cell_type": "code",
   "execution_count": 6,
   "id": "3f4a76d5",
   "metadata": {},
   "outputs": [
    {
     "name": "stdout",
     "output_type": "stream",
     "text": [
      "Even rows, even columns shape: (5000, 6)\n",
      "Even columns: ['Date', 'Locality', 'Sale Price', 'Residential', 'num_bathrooms', 'property_tax_rate']\n",
      "\n",
      "Value at [255, 3] in even rows, even columns: Detached House\n",
      "Column 3 name in even columns: Residential\n"
     ]
    }
   ],
   "source": [
    "# Select even indexed columns and even indexed rows\n",
    "even_rows_even_cols = df.iloc[::2, ::2]  # Even rows, even columns\n",
    "\n",
    "print(f\"Even rows, even columns shape: {even_rows_even_cols.shape}\")\n",
    "print(f\"Even columns: {list(even_rows_even_cols.columns)}\")\n",
    "\n",
    "# Get value at 255th row, 3rd column in the selected dataframe\n",
    "value_255_3_even = even_rows_even_cols.iloc[255, 3]\n",
    "print(f\"\\nValue at [255, 3] in even rows, even columns: {value_255_3_even}\")\n",
    "print(f\"Column 3 name in even columns: {even_rows_even_cols.columns[3]}\")"
   ]
  },
  {
   "cell_type": "markdown",
   "id": "6b714c88",
   "metadata": {},
   "source": [
    "## Question 6: Number of samples in the six most recent years"
   ]
  },
  {
   "cell_type": "code",
   "execution_count": 7,
   "id": "265e37dc",
   "metadata": {},
   "outputs": [
    {
     "name": "stdout",
     "output_type": "stream",
     "text": [
      "All unique years (sorted desc): [np.int64(2022), np.int64(2021), np.int64(2020), np.int64(2019), np.int64(2018), np.int64(2017), np.int64(2016), np.int64(2015), np.int64(2014), np.int64(2013), np.int64(2012), np.int64(2011), np.int64(2010), np.int64(2009)]\n",
      "Six most recent years: [np.int64(2022), np.int64(2021), np.int64(2020), np.int64(2019), np.int64(2018), np.int64(2017)]\n",
      "\n",
      "Number of samples in six most recent years: 4749\n",
      "\n",
      "Breakdown by year:\n",
      "Year 2022: 789 samples\n",
      "Year 2021: 929 samples\n",
      "Year 2020: 724 samples\n",
      "Year 2019: 800 samples\n",
      "Year 2018: 641 samples\n",
      "Year 2017: 866 samples\n"
     ]
    }
   ],
   "source": [
    "# Find the six most recent years\n",
    "unique_years = sorted(df['Year'].unique(), reverse=True)\n",
    "print(f\"All unique years (sorted desc): {unique_years}\")\n",
    "\n",
    "six_most_recent_years = unique_years[:6]\n",
    "print(f\"Six most recent years: {six_most_recent_years}\")\n",
    "\n",
    "# Count samples in these years\n",
    "samples_recent_years = df[df['Year'].isin(six_most_recent_years)].shape[0]\n",
    "print(f\"\\nNumber of samples in six most recent years: {samples_recent_years}\")\n",
    "\n",
    "# Show breakdown by year\n",
    "print(\"\\nBreakdown by year:\")\n",
    "for year in six_most_recent_years:\n",
    "    count = (df['Year'] == year).sum()\n",
    "    print(f\"Year {year}: {count} samples\")"
   ]
  },
  {
   "cell_type": "markdown",
   "id": "893112b2",
   "metadata": {},
   "source": [
    "## Question 7: Samples with num_rooms = 3 AND num_bathrooms = 3"
   ]
  },
  {
   "cell_type": "code",
   "execution_count": 8,
   "id": "e41bc52c",
   "metadata": {},
   "outputs": [
    {
     "name": "stdout",
     "output_type": "stream",
     "text": [
      "Number of samples with num_rooms = 3 AND num_bathrooms = 3: 2730\n"
     ]
    }
   ],
   "source": [
    "# Count samples with num_rooms = 3 AND num_bathrooms = 3\n",
    "condition_and = (df['num_rooms'] == 3) & (df['num_bathrooms'] == 3)\n",
    "count_and = condition_and.sum()\n",
    "\n",
    "print(f\"Number of samples with num_rooms = 3 AND num_bathrooms = 3: {count_and}\")"
   ]
  },
  {
   "cell_type": "markdown",
   "id": "68db6014",
   "metadata": {},
   "source": [
    "## Question 8: Samples with num_rooms = 3 OR num_bathrooms = 3"
   ]
  },
  {
   "cell_type": "code",
   "execution_count": 9,
   "id": "311193dc",
   "metadata": {},
   "outputs": [
    {
     "name": "stdout",
     "output_type": "stream",
     "text": [
      "Number of samples with num_rooms = 3 OR num_bathrooms = 3: 8591\n",
      "\n",
      "Breakdown:\n",
      "num_rooms = 3: 8288\n",
      "num_bathrooms = 3: 3033\n",
      "Both = 3: 2730\n",
      "OR logic: 8288 + 3033 - 2730 = 8591\n"
     ]
    }
   ],
   "source": [
    "# Count samples with num_rooms = 3 OR num_bathrooms = 3\n",
    "condition_or = (df['num_rooms'] == 3) | (df['num_bathrooms'] == 3)\n",
    "count_or = condition_or.sum()\n",
    "\n",
    "print(f\"Number of samples with num_rooms = 3 OR num_bathrooms = 3: {count_or}\")\n",
    "\n",
    "# Breakdown for verification\n",
    "rooms_3 = (df['num_rooms'] == 3).sum()\n",
    "bathrooms_3 = (df['num_bathrooms'] == 3).sum()\n",
    "both_3 = ((df['num_rooms'] == 3) & (df['num_bathrooms'] == 3)).sum()\n",
    "\n",
    "print(f\"\\nBreakdown:\")\n",
    "print(f\"num_rooms = 3: {rooms_3}\")\n",
    "print(f\"num_bathrooms = 3: {bathrooms_3}\")\n",
    "print(f\"Both = 3: {both_3}\")\n",
    "print(f\"OR logic: {rooms_3} + {bathrooms_3} - {both_3} = {rooms_3 + bathrooms_3 - both_3}\")"
   ]
  },
  {
   "cell_type": "markdown",
   "id": "ac80f115",
   "metadata": {},
   "source": [
    "## Question 9: Year 2022, Greenwich, num_rooms = 3, facing North or East"
   ]
  },
  {
   "cell_type": "code",
   "execution_count": 10,
   "id": "bbe7be19",
   "metadata": {},
   "outputs": [
    {
     "name": "stdout",
     "output_type": "stream",
     "text": [
      "Houses in 2022, Greenwich, num_rooms=3, facing North or East: 42\n",
      "\n",
      "Breakdown by Face direction:\n",
      "Face\n",
      "East     26\n",
      "North    16\n",
      "Name: count, dtype: int64\n"
     ]
    }
   ],
   "source": [
    "# Filter for Year 2022, Greenwich, num_rooms = 3, facing North or East\n",
    "condition_q9 = (\n",
    "    (df['Year'] == 2022) & \n",
    "    (df['Locality'] == 'Greenwich') & \n",
    "    (df['num_rooms'] == 3) & \n",
    "    (df['Face'].isin(['North', 'East']))\n",
    ")\n",
    "\n",
    "count_q9 = condition_q9.sum()\n",
    "print(f\"Houses in 2022, Greenwich, num_rooms=3, facing North or East: {count_q9}\")\n",
    "\n",
    "# Show the breakdown\n",
    "filtered_data = df[condition_q9]\n",
    "print(f\"\\nBreakdown by Face direction:\")\n",
    "print(filtered_data['Face'].value_counts())"
   ]
  },
  {
   "cell_type": "markdown",
   "id": "7c5cf638",
   "metadata": {},
   "source": [
    "## Question 10: Samples from August across all years"
   ]
  },
  {
   "cell_type": "code",
   "execution_count": 11,
   "id": "803688cc",
   "metadata": {},
   "outputs": [
    {
     "name": "stdout",
     "output_type": "stream",
     "text": [
      "Number of samples from August across all years: 1050\n",
      "\n",
      "Breakdown by year:\n",
      "Year\n",
      "2009     79\n",
      "2010     54\n",
      "2011     54\n",
      "2012     74\n",
      "2013     56\n",
      "2014     56\n",
      "2015     64\n",
      "2016     90\n",
      "2017    106\n",
      "2018     63\n",
      "2019     81\n",
      "2020     60\n",
      "2021     87\n",
      "2022    126\n",
      "Name: count, dtype: int64\n"
     ]
    }
   ],
   "source": [
    "# Extract month from Date column\n",
    "df['Date'] = pd.to_datetime(df['Date'])\n",
    "df['Month'] = df['Date'].dt.month\n",
    "\n",
    "# Count samples from August (month = 8)\n",
    "august_samples = (df['Month'] == 8).sum()\n",
    "print(f\"Number of samples from August across all years: {august_samples}\")\n",
    "\n",
    "# Show breakdown by year\n",
    "print(f\"\\nBreakdown by year:\")\n",
    "august_data = df[df['Month'] == 8]\n",
    "august_by_year = august_data['Year'].value_counts().sort_index()\n",
    "print(august_by_year)"
   ]
  },
  {
   "cell_type": "markdown",
   "id": "4f37d670",
   "metadata": {},
   "source": [
    "## Question 11: Locality with highest average Sale Price"
   ]
  },
  {
   "cell_type": "code",
   "execution_count": 12,
   "id": "4b59a956",
   "metadata": {},
   "outputs": [
    {
     "name": "stdout",
     "output_type": "stream",
     "text": [
      "Average Sale Price by Locality (sorted desc):\n",
      "Greenwich: $2,270,223.54\n",
      "Fairfield: $727,722.48\n",
      "Stamford: $630,531.28\n",
      "Norwalk: $559,095.87\n",
      "West Hartford: $338,547.17\n",
      "Bridgeport: $174,095.34\n",
      "Waterbury: $106,215.16\n",
      "\n",
      "Locality with highest average Sale Price: Greenwich\n",
      "Average Sale Price: $2,270,223.54\n"
     ]
    }
   ],
   "source": [
    "# Calculate average Sale Price by Locality\n",
    "avg_sale_price_by_locality = df.groupby('Locality')['Sale Price'].mean().sort_values(ascending=False)\n",
    "\n",
    "print(f\"Average Sale Price by Locality (sorted desc):\")\n",
    "for locality, avg_price in avg_sale_price_by_locality.items():\n",
    "    print(f\"{locality}: ${avg_price:,.2f}\")\n",
    "\n",
    "highest_avg_locality = avg_sale_price_by_locality.index[0]\n",
    "highest_avg_price = avg_sale_price_by_locality.iloc[0]\n",
    "\n",
    "print(f\"\\nLocality with highest average Sale Price: {highest_avg_locality}\")\n",
    "print(f\"Average Sale Price: ${highest_avg_price:,.2f}\")"
   ]
  },
  {
   "cell_type": "markdown",
   "id": "2889b247",
   "metadata": {},
   "source": [
    "## Summary of All Answers"
   ]
  },
  {
   "cell_type": "code",
   "execution_count": 13,
   "id": "018bff93",
   "metadata": {},
   "outputs": [
    {
     "name": "stdout",
     "output_type": "stream",
     "text": [
      "=== WEEK 1.2 FINAL ANSWERS ===\n",
      "1. Even rows [0,3]: 111440.0\n",
      "2. Even rows [332,3]: 256200.0\n",
      "3. Odd rows [332,3]: 352940.0\n",
      "4. Odd columns [100,5]: West\n",
      "5. Even rows/cols [255,3]: Detached House\n",
      "6. Six most recent years samples: 4749\n",
      "7. num_rooms=3 AND num_bathrooms=3: 2730\n",
      "8. num_rooms=3 OR num_bathrooms=3: 8591\n",
      "9. 2022 Greenwich 3rooms North/East: 42\n",
      "10. August samples: 1050\n",
      "11. Highest avg Sale Price locality: Greenwich\n"
     ]
    }
   ],
   "source": [
    "print(\"=== WEEK 1.2 FINAL ANSWERS ===\")\n",
    "print(f\"1. Even rows [0,3]: {even_rows.iloc[0, 3]}\")\n",
    "print(f\"2. Even rows [332,3]: {even_rows.iloc[332, 3]}\")\n",
    "print(f\"3. Odd rows [332,3]: {odd_rows.iloc[332, 3]}\")\n",
    "print(f\"4. Odd columns [100,5]: {odd_columns.iloc[100, 5]}\")\n",
    "print(f\"5. Even rows/cols [255,3]: {even_rows_even_cols.iloc[255, 3]}\")\n",
    "print(f\"6. Six most recent years samples: {samples_recent_years}\")\n",
    "print(f\"7. num_rooms=3 AND num_bathrooms=3: {count_and}\")\n",
    "print(f\"8. num_rooms=3 OR num_bathrooms=3: {count_or}\")\n",
    "print(f\"9. 2022 Greenwich 3rooms North/East: {count_q9}\")\n",
    "print(f\"10. August samples: {august_samples}\")\n",
    "print(f\"11. Highest avg Sale Price locality: {highest_avg_locality}\")"
   ]
  }
 ],
 "metadata": {
  "kernelspec": {
   "display_name": ".venv",
   "language": "python",
   "name": "python3"
  },
  "language_info": {
   "codemirror_mode": {
    "name": "ipython",
    "version": 3
   },
   "file_extension": ".py",
   "mimetype": "text/x-python",
   "name": "python",
   "nbconvert_exporter": "python",
   "pygments_lexer": "ipython3",
   "version": "3.13.7"
  }
 },
 "nbformat": 4,
 "nbformat_minor": 5
}
