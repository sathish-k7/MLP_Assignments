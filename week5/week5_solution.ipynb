{
 "cells": [
  {
   "cell_type": "code",
   "execution_count": 1,
   "id": "0d267031",
   "metadata": {},
   "outputs": [],
   "source": [
    "# Import necessary libraries\n",
    "import pandas as pd\n",
    "import numpy as np\n",
    "from sklearn.model_selection import train_test_split\n",
    "from sklearn.linear_model import LinearRegression\n",
    "from sklearn.metrics import r2_score"
   ]
  },
  {
   "cell_type": "code",
   "execution_count": 2,
   "id": "6bc8c98c",
   "metadata": {},
   "outputs": [
    {
     "name": "stdout",
     "output_type": "stream",
     "text": [
      "Dataset shape: (6000, 17)\n"
     ]
    },
    {
     "data": {
      "text/html": [
       "<div>\n",
       "<style scoped>\n",
       "    .dataframe tbody tr th:only-of-type {\n",
       "        vertical-align: middle;\n",
       "    }\n",
       "\n",
       "    .dataframe tbody tr th {\n",
       "        vertical-align: top;\n",
       "    }\n",
       "\n",
       "    .dataframe thead th {\n",
       "        text-align: right;\n",
       "    }\n",
       "</style>\n",
       "<table border=\"1\" class=\"dataframe\">\n",
       "  <thead>\n",
       "    <tr style=\"text-align: right;\">\n",
       "      <th></th>\n",
       "      <th>Marital_Status_Married</th>\n",
       "      <th>Marital_Status_Single</th>\n",
       "      <th>Attrition_Flag_Existing Customer</th>\n",
       "      <th>Gender_M</th>\n",
       "      <th>Education_Level</th>\n",
       "      <th>Income_Category</th>\n",
       "      <th>Card_Category</th>\n",
       "      <th>Customer_Age</th>\n",
       "      <th>Dependent_count</th>\n",
       "      <th>Months_on_book</th>\n",
       "      <th>Total_Relationship_Count</th>\n",
       "      <th>Months_Inactive_12_mon</th>\n",
       "      <th>Contacts_Count_12_mon</th>\n",
       "      <th>Total_Revolving_Bal</th>\n",
       "      <th>Total_Trans_Amt</th>\n",
       "      <th>Total_Trans_Ct</th>\n",
       "      <th>Credit_Limit</th>\n",
       "    </tr>\n",
       "  </thead>\n",
       "  <tbody>\n",
       "    <tr>\n",
       "      <th>0</th>\n",
       "      <td>1.069045</td>\n",
       "      <td>-0.921798</td>\n",
       "      <td>0.439814</td>\n",
       "      <td>-0.951190</td>\n",
       "      <td>0.834712</td>\n",
       "      <td>-0.893941</td>\n",
       "      <td>-0.246607</td>\n",
       "      <td>0.491018</td>\n",
       "      <td>-0.257859</td>\n",
       "      <td>0.02221</td>\n",
       "      <td>-1.164956</td>\n",
       "      <td>0.669239</td>\n",
       "      <td>-0.415532</td>\n",
       "      <td>-1.446910</td>\n",
       "      <td>0.120064</td>\n",
       "      <td>0.941898</td>\n",
       "      <td>1912.0</td>\n",
       "    </tr>\n",
       "    <tr>\n",
       "      <th>1</th>\n",
       "      <td>1.069045</td>\n",
       "      <td>-0.921798</td>\n",
       "      <td>0.439814</td>\n",
       "      <td>-0.951190</td>\n",
       "      <td>-0.499271</td>\n",
       "      <td>-0.893941</td>\n",
       "      <td>-0.246607</td>\n",
       "      <td>-0.424834</td>\n",
       "      <td>-1.872632</td>\n",
       "      <td>-0.10321</td>\n",
       "      <td>-1.805996</td>\n",
       "      <td>-1.359398</td>\n",
       "      <td>-2.222191</td>\n",
       "      <td>-0.121630</td>\n",
       "      <td>0.943320</td>\n",
       "      <td>1.406924</td>\n",
       "      <td>8401.0</td>\n",
       "    </tr>\n",
       "    <tr>\n",
       "      <th>2</th>\n",
       "      <td>-0.935414</td>\n",
       "      <td>1.084837</td>\n",
       "      <td>0.439814</td>\n",
       "      <td>-0.951190</td>\n",
       "      <td>1.501703</td>\n",
       "      <td>-0.893941</td>\n",
       "      <td>-0.246607</td>\n",
       "      <td>0.000000</td>\n",
       "      <td>-0.257859</td>\n",
       "      <td>0.02221</td>\n",
       "      <td>1.399203</td>\n",
       "      <td>-0.345080</td>\n",
       "      <td>-0.415532</td>\n",
       "      <td>1.583523</td>\n",
       "      <td>0.173868</td>\n",
       "      <td>0.815073</td>\n",
       "      <td>2759.0</td>\n",
       "    </tr>\n",
       "    <tr>\n",
       "      <th>3</th>\n",
       "      <td>-0.935414</td>\n",
       "      <td>1.084837</td>\n",
       "      <td>0.439814</td>\n",
       "      <td>-0.951190</td>\n",
       "      <td>-1.166262</td>\n",
       "      <td>-0.893941</td>\n",
       "      <td>-0.246607</td>\n",
       "      <td>0.000000</td>\n",
       "      <td>-1.065246</td>\n",
       "      <td>0.02221</td>\n",
       "      <td>-0.523916</td>\n",
       "      <td>0.669239</td>\n",
       "      <td>-0.415532</td>\n",
       "      <td>0.258243</td>\n",
       "      <td>-0.007792</td>\n",
       "      <td>0.434597</td>\n",
       "      <td>7075.0</td>\n",
       "    </tr>\n",
       "    <tr>\n",
       "      <th>4</th>\n",
       "      <td>-0.935414</td>\n",
       "      <td>1.084837</td>\n",
       "      <td>0.439814</td>\n",
       "      <td>1.051315</td>\n",
       "      <td>-0.499271</td>\n",
       "      <td>0.602194</td>\n",
       "      <td>2.750132</td>\n",
       "      <td>-1.079013</td>\n",
       "      <td>0.549527</td>\n",
       "      <td>-0.35405</td>\n",
       "      <td>1.399203</td>\n",
       "      <td>-1.359398</td>\n",
       "      <td>-0.415532</td>\n",
       "      <td>0.743161</td>\n",
       "      <td>0.028077</td>\n",
       "      <td>0.561422</td>\n",
       "      <td>34516.0</td>\n",
       "    </tr>\n",
       "  </tbody>\n",
       "</table>\n",
       "</div>"
      ],
      "text/plain": [
       "   Marital_Status_Married  Marital_Status_Single  \\\n",
       "0                1.069045              -0.921798   \n",
       "1                1.069045              -0.921798   \n",
       "2               -0.935414               1.084837   \n",
       "3               -0.935414               1.084837   \n",
       "4               -0.935414               1.084837   \n",
       "\n",
       "   Attrition_Flag_Existing Customer  Gender_M  Education_Level  \\\n",
       "0                          0.439814 -0.951190         0.834712   \n",
       "1                          0.439814 -0.951190        -0.499271   \n",
       "2                          0.439814 -0.951190         1.501703   \n",
       "3                          0.439814 -0.951190        -1.166262   \n",
       "4                          0.439814  1.051315        -0.499271   \n",
       "\n",
       "   Income_Category  Card_Category  Customer_Age  Dependent_count  \\\n",
       "0        -0.893941      -0.246607      0.491018        -0.257859   \n",
       "1        -0.893941      -0.246607     -0.424834        -1.872632   \n",
       "2        -0.893941      -0.246607      0.000000        -0.257859   \n",
       "3        -0.893941      -0.246607      0.000000        -1.065246   \n",
       "4         0.602194       2.750132     -1.079013         0.549527   \n",
       "\n",
       "   Months_on_book  Total_Relationship_Count  Months_Inactive_12_mon  \\\n",
       "0         0.02221                 -1.164956                0.669239   \n",
       "1        -0.10321                 -1.805996               -1.359398   \n",
       "2         0.02221                  1.399203               -0.345080   \n",
       "3         0.02221                 -0.523916                0.669239   \n",
       "4        -0.35405                  1.399203               -1.359398   \n",
       "\n",
       "   Contacts_Count_12_mon  Total_Revolving_Bal  Total_Trans_Amt  \\\n",
       "0              -0.415532            -1.446910         0.120064   \n",
       "1              -2.222191            -0.121630         0.943320   \n",
       "2              -0.415532             1.583523         0.173868   \n",
       "3              -0.415532             0.258243        -0.007792   \n",
       "4              -0.415532             0.743161         0.028077   \n",
       "\n",
       "   Total_Trans_Ct  Credit_Limit  \n",
       "0        0.941898        1912.0  \n",
       "1        1.406924        8401.0  \n",
       "2        0.815073        2759.0  \n",
       "3        0.434597        7075.0  \n",
       "4        0.561422       34516.0  "
      ]
     },
     "execution_count": 2,
     "metadata": {},
     "output_type": "execute_result"
    }
   ],
   "source": [
    "# Load the dataset\n",
    "df = pd.read_csv('GA_5_dataset.csv')\n",
    "print(\"Dataset shape:\", df.shape)\n",
    "df.head()"
   ]
  },
  {
   "cell_type": "code",
   "execution_count": 3,
   "id": "77ff6853",
   "metadata": {},
   "outputs": [
    {
     "name": "stdout",
     "output_type": "stream",
     "text": [
      "Feature matrix shape: (6000, 16)\n",
      "Target variable shape: (6000,)\n"
     ]
    }
   ],
   "source": [
    "# Separate features (X) and target variable (y)\n",
    "# Credit_Limit is the last column (target variable)\n",
    "X = df.iloc[:, :-1]  # All columns except the last one\n",
    "y = df.iloc[:, -1]   # Last column (Credit_Limit)\n",
    "\n",
    "print(\"Feature matrix shape:\", X.shape)\n",
    "print(\"Target variable shape:\", y.shape)"
   ]
  },
  {
   "cell_type": "code",
   "execution_count": 4,
   "id": "aa21bf5d",
   "metadata": {},
   "outputs": [
    {
     "name": "stdout",
     "output_type": "stream",
     "text": [
      "Training set size: 4200\n",
      "Test set size: 1800\n"
     ]
    }
   ],
   "source": [
    "# Split the dataset into train and test set (70:30 ratio, random_state=42)\n",
    "X_train, X_test, y_train, y_test = train_test_split(X, y, test_size=0.3, random_state=42)\n",
    "\n",
    "print(\"Training set size:\", X_train.shape[0])\n",
    "print(\"Test set size:\", X_test.shape[0])"
   ]
  },
  {
   "cell_type": "markdown",
   "id": "c266c20d",
   "metadata": {},
   "source": [
    "## Question 1 & 2: Linear Regression with fit_intercept=False"
   ]
  },
  {
   "cell_type": "code",
   "execution_count": 5,
   "id": "4824182b",
   "metadata": {},
   "outputs": [
    {
     "name": "stdout",
     "output_type": "stream",
     "text": [
      "R2 Score on test dataset: -0.411\n",
      "\n",
      "Question 1 Answer: -0.411\n"
     ]
    }
   ],
   "source": [
    "# Train Linear Regression model with fit_intercept=False\n",
    "lr_model = LinearRegression(fit_intercept=False)\n",
    "lr_model.fit(X_train, y_train)\n",
    "\n",
    "# Make predictions on test set\n",
    "y_pred = lr_model.predict(X_test)\n",
    "\n",
    "# Calculate R2 score on test dataset\n",
    "r2 = r2_score(y_test, y_pred)\n",
    "\n",
    "print(f\"R2 Score on test dataset: {r2:.3f}\")\n",
    "print(f\"\\nQuestion 1 Answer: {r2:.3f}\")"
   ]
  },
  {
   "cell_type": "code",
   "execution_count": 6,
   "id": "7e7c8467",
   "metadata": {},
   "outputs": [
    {
     "name": "stdout",
     "output_type": "stream",
     "text": [
      "Coefficients:\n",
      "Feature 0: -809.6172 (Absolute: 809.6172)\n",
      "Feature 1: -533.7746 (Absolute: 533.7746)\n",
      "Feature 2: 200.0798 (Absolute: 200.0798)\n",
      "Feature 3: -170.5218 (Absolute: 170.5218)\n",
      "Feature 4: 4.6205 (Absolute: 4.6205)\n",
      "Feature 5: 4462.9321 (Absolute: 4462.9321)\n",
      "Feature 6: 3877.5317 (Absolute: 3877.5317)\n",
      "Feature 7: 132.2398 (Absolute: 132.2398)\n",
      "Feature 8: 192.6857 (Absolute: 192.6857)\n",
      "Feature 9: -1.3186 (Absolute: 1.3186)\n",
      "Feature 10: 22.3471 (Absolute: 22.3471)\n",
      "Feature 11: -86.5910 (Absolute: 86.5910)\n",
      "Feature 12: 259.8347 (Absolute: 259.8347)\n",
      "Feature 13: 1.6462 (Absolute: 1.6462)\n",
      "Feature 14: 1360.9905 (Absolute: 1360.9905)\n",
      "Feature 15: -794.0213 (Absolute: 794.0213)\n",
      "\n",
      "Feature with highest absolute coefficient:\n",
      "Index: 5\n",
      "Coefficient value: 4462.9321\n",
      "Absolute coefficient value: 4462.9321\n",
      "\n",
      "Question 2 Answer: 5\n"
     ]
    }
   ],
   "source": [
    "# Get the coefficients\n",
    "coefficients = lr_model.coef_\n",
    "\n",
    "# Find the index of feature with highest absolute coefficient value\n",
    "abs_coefficients = np.abs(coefficients)\n",
    "max_coef_index = np.argmax(abs_coefficients)\n",
    "\n",
    "print(\"Coefficients:\")\n",
    "for i, coef in enumerate(coefficients):\n",
    "    print(f\"Feature {i}: {coef:.4f} (Absolute: {abs(coef):.4f})\")\n",
    "\n",
    "print(f\"\\nFeature with highest absolute coefficient:\")\n",
    "print(f\"Index: {max_coef_index}\")\n",
    "print(f\"Coefficient value: {coefficients[max_coef_index]:.4f}\")\n",
    "print(f\"Absolute coefficient value: {abs_coefficients[max_coef_index]:.4f}\")\n",
    "\n",
    "print(f\"\\nQuestion 2 Answer: {max_coef_index}\")"
   ]
  },
  {
   "cell_type": "markdown",
   "id": "7a438aeb",
   "metadata": {},
   "source": [
    "## Question 3 & 4: Ridge Regression"
   ]
  },
  {
   "cell_type": "code",
   "execution_count": 7,
   "id": "f0312f7b",
   "metadata": {},
   "outputs": [],
   "source": [
    "# Import Ridge from sklearn\n",
    "from sklearn.linear_model import Ridge"
   ]
  },
  {
   "cell_type": "code",
   "execution_count": 8,
   "id": "776867d7",
   "metadata": {},
   "outputs": [
    {
     "name": "stdout",
     "output_type": "stream",
     "text": [
      "R2 Score on test dataset: 0.503\n",
      "\n",
      "Question 3 Answer: 0.503\n"
     ]
    }
   ],
   "source": [
    "# Train Ridge model with specified parameters\n",
    "ridge_model = Ridge(solver='sag', tol=0.0005, random_state=42)\n",
    "ridge_model.fit(X_train, y_train)\n",
    "\n",
    "# Make predictions on test set\n",
    "y_pred_ridge = ridge_model.predict(X_test)\n",
    "\n",
    "# Calculate R2 score on test dataset\n",
    "r2_ridge = r2_score(y_test, y_pred_ridge)\n",
    "\n",
    "print(f\"R2 Score on test dataset: {r2_ridge:.3f}\")\n",
    "print(f\"\\nQuestion 3 Answer: {r2_ridge:.3f}\")"
   ]
  },
  {
   "cell_type": "code",
   "execution_count": 9,
   "id": "2d8fd56b",
   "metadata": {},
   "outputs": [
    {
     "name": "stdout",
     "output_type": "stream",
     "text": [
      "Intercept value: 8638.308\n",
      "\n",
      "Question 4 Answer: 8638.308\n"
     ]
    }
   ],
   "source": [
    "# Get the intercept value\n",
    "intercept = ridge_model.intercept_\n",
    "\n",
    "print(f\"Intercept value: {intercept:.3f}\")\n",
    "print(f\"\\nQuestion 4 Answer: {intercept:.3f}\")"
   ]
  },
  {
   "cell_type": "markdown",
   "id": "9e658c60",
   "metadata": {},
   "source": [
    "## Question 5 & 6: Lasso Regression"
   ]
  },
  {
   "cell_type": "code",
   "execution_count": 10,
   "id": "ee2fd00d",
   "metadata": {},
   "outputs": [],
   "source": [
    "# Import Lasso from sklearn\n",
    "from sklearn.linear_model import Lasso"
   ]
  },
  {
   "cell_type": "code",
   "execution_count": 11,
   "id": "631246f5",
   "metadata": {},
   "outputs": [
    {
     "name": "stdout",
     "output_type": "stream",
     "text": [
      "R2 Score on test dataset: 0.501\n",
      "\n",
      "Question 5 Answer: 0.501\n"
     ]
    }
   ],
   "source": [
    "# Train Lasso model with specified parameters\n",
    "lasso_model = Lasso(alpha=100, random_state=42)\n",
    "lasso_model.fit(X_train, y_train)\n",
    "\n",
    "# Make predictions on test set\n",
    "y_pred_lasso = lasso_model.predict(X_test)\n",
    "\n",
    "# Calculate R2 score on test dataset\n",
    "r2_lasso = r2_score(y_test, y_pred_lasso)\n",
    "\n",
    "print(f\"R2 Score on test dataset: {r2_lasso:.3f}\")\n",
    "print(f\"\\nQuestion 5 Answer: {r2_lasso:.3f}\")"
   ]
  },
  {
   "cell_type": "code",
   "execution_count": 12,
   "id": "fa4ef91b",
   "metadata": {},
   "outputs": [
    {
     "name": "stdout",
     "output_type": "stream",
     "text": [
      "Lasso Coefficients:\n",
      "Feature 0: -197.6313\n",
      "Feature 1: -0.0000\n",
      "Feature 2: 0.0000\n",
      "Feature 3: 0.0000\n",
      "Feature 4: -0.0000\n",
      "Feature 5: 4289.9714\n",
      "Feature 6: 3753.3467\n",
      "Feature 7: 0.0000\n",
      "Feature 8: 62.8468\n",
      "Feature 9: 0.0000\n",
      "Feature 10: -0.0000\n",
      "Feature 11: -0.0000\n",
      "Feature 12: 107.5511\n",
      "Feature 13: 0.0000\n",
      "Feature 14: 694.9363\n",
      "Feature 15: -133.8558\n",
      "\n",
      "Number of coefficients in range [-1, 1]: 9\n",
      "\n",
      "Question 6 Answer: 9\n"
     ]
    }
   ],
   "source": [
    "# Get the coefficients\n",
    "lasso_coefficients = lasso_model.coef_\n",
    "\n",
    "# Count how many coefficients are in the range [-1, 1]\n",
    "count_in_range = np.sum((lasso_coefficients >= -1) & (lasso_coefficients <= 1))\n",
    "\n",
    "print(\"Lasso Coefficients:\")\n",
    "for i, coef in enumerate(lasso_coefficients):\n",
    "    print(f\"Feature {i}: {coef:.4f}\")\n",
    "\n",
    "print(f\"\\nNumber of coefficients in range [-1, 1]: {count_in_range}\")\n",
    "print(f\"\\nQuestion 6 Answer: {count_in_range}\")"
   ]
  },
  {
   "cell_type": "markdown",
   "id": "92f0e589",
   "metadata": {},
   "source": [
    "## Question 7: KNeighborsRegressor"
   ]
  },
  {
   "cell_type": "code",
   "execution_count": 13,
   "id": "576d72b1",
   "metadata": {},
   "outputs": [],
   "source": [
    "# Import KNeighborsRegressor and mean_squared_error\n",
    "from sklearn.neighbors import KNeighborsRegressor\n",
    "from sklearn.metrics import mean_squared_error"
   ]
  },
  {
   "cell_type": "code",
   "execution_count": 14,
   "id": "3edbee2d",
   "metadata": {},
   "outputs": [
    {
     "name": "stdout",
     "output_type": "stream",
     "text": [
      "RMSE on test dataset: 6707.056\n",
      "\n",
      "Question 7 Answer: 6707.056\n"
     ]
    }
   ],
   "source": [
    "# Train KNeighborsRegressor with specified parameters\n",
    "knn_model = KNeighborsRegressor(n_neighbors=10, p=1)\n",
    "knn_model.fit(X_train, y_train)\n",
    "\n",
    "# Make predictions on test set\n",
    "y_pred_knn = knn_model.predict(X_test)\n",
    "\n",
    "# Calculate RMSE on test dataset\n",
    "rmse_knn = np.sqrt(mean_squared_error(y_test, y_pred_knn))\n",
    "\n",
    "print(f\"RMSE on test dataset: {rmse_knn:.3f}\")\n",
    "print(f\"\\nQuestion 7 Answer: {rmse_knn:.3f}\")"
   ]
  },
  {
   "cell_type": "markdown",
   "id": "a6cad726",
   "metadata": {},
   "source": [
    "## Question 8: Decision Tree Regressor"
   ]
  },
  {
   "cell_type": "code",
   "execution_count": 15,
   "id": "5479e6ef",
   "metadata": {},
   "outputs": [],
   "source": [
    "# Import DecisionTreeRegressor\n",
    "from sklearn.tree import DecisionTreeRegressor"
   ]
  },
  {
   "cell_type": "code",
   "execution_count": 16,
   "id": "28257d76",
   "metadata": {},
   "outputs": [
    {
     "name": "stdout",
     "output_type": "stream",
     "text": [
      "RMSE on test dataset: 6740.834\n",
      "\n",
      "Question 8 Answer: 6740.834\n"
     ]
    }
   ],
   "source": [
    "# Train Decision Tree Regressor with specified parameters\n",
    "dt_model = DecisionTreeRegressor(\n",
    "    max_depth=10,\n",
    "    min_samples_split=6,\n",
    "    min_samples_leaf=6,\n",
    "    random_state=42\n",
    ")\n",
    "dt_model.fit(X_train, y_train)\n",
    "\n",
    "# Make predictions on test set\n",
    "y_pred_dt = dt_model.predict(X_test)\n",
    "\n",
    "# Calculate RMSE on test dataset\n",
    "rmse_dt = np.sqrt(mean_squared_error(y_test, y_pred_dt))\n",
    "\n",
    "print(f\"RMSE on test dataset: {rmse_dt:.3f}\")\n",
    "print(f\"\\nQuestion 8 Answer: {rmse_dt:.3f}\")"
   ]
  },
  {
   "cell_type": "markdown",
   "id": "f01b1680",
   "metadata": {},
   "source": [
    "## Question 9 & 10: AdaBoost with GridSearchCV"
   ]
  },
  {
   "cell_type": "code",
   "execution_count": 17,
   "id": "66e56e35",
   "metadata": {},
   "outputs": [],
   "source": [
    "# Import AdaBoostRegressor and GridSearchCV\n",
    "from sklearn.ensemble import AdaBoostRegressor\n",
    "from sklearn.model_selection import GridSearchCV"
   ]
  },
  {
   "cell_type": "code",
   "execution_count": 18,
   "id": "01890662",
   "metadata": {},
   "outputs": [
    {
     "name": "stdout",
     "output_type": "stream",
     "text": [
      "Training GridSearchCV... This may take a few minutes.\n",
      "GridSearchCV training completed!\n"
     ]
    }
   ],
   "source": [
    "# Define the parameter grid\n",
    "param_grid = {\n",
    "    'n_estimators': [10, 50, 100, 200, 500],\n",
    "    'learning_rate': [0.1, 0.5, 1, 2]\n",
    "}\n",
    "\n",
    "# Create AdaBoostRegressor model\n",
    "ada_model = AdaBoostRegressor(random_state=42)\n",
    "\n",
    "# Perform GridSearchCV\n",
    "grid_search = GridSearchCV(\n",
    "    estimator=ada_model,\n",
    "    param_grid=param_grid,\n",
    "    cv=4,\n",
    "    scoring='r2',\n",
    "    n_jobs=-1\n",
    ")\n",
    "\n",
    "# Fit the grid search\n",
    "print(\"Training GridSearchCV... This may take a few minutes.\")\n",
    "grid_search.fit(X_train, y_train)\n",
    "print(\"GridSearchCV training completed!\")"
   ]
  },
  {
   "cell_type": "code",
   "execution_count": 19,
   "id": "36bdd1e6",
   "metadata": {},
   "outputs": [
    {
     "name": "stdout",
     "output_type": "stream",
     "text": [
      "Best Parameters:\n",
      "{'learning_rate': 0.1, 'n_estimators': 10}\n"
     ]
    }
   ],
   "source": [
    "# Get the best model\n",
    "best_ada_model = grid_search.best_estimator_\n",
    "\n",
    "# Display best parameters\n",
    "print(\"Best Parameters:\")\n",
    "print(grid_search.best_params_)"
   ]
  },
  {
   "cell_type": "code",
   "execution_count": 20,
   "id": "4dc1f1a9",
   "metadata": {},
   "outputs": [
    {
     "name": "stdout",
     "output_type": "stream",
     "text": [
      "R2 Score on test dataset: 0.540\n",
      "\n",
      "Question 9 Answer: 0.540\n"
     ]
    }
   ],
   "source": [
    "# Make predictions on test set using the best model\n",
    "y_pred_ada = best_ada_model.predict(X_test)\n",
    "\n",
    "# Calculate R2 score on test dataset\n",
    "r2_ada = r2_score(y_test, y_pred_ada)\n",
    "\n",
    "print(f\"R2 Score on test dataset: {r2_ada:.3f}\")\n",
    "print(f\"\\nQuestion 9 Answer: {r2_ada:.3f}\")"
   ]
  },
  {
   "cell_type": "code",
   "execution_count": 21,
   "id": "8e4c20d6",
   "metadata": {},
   "outputs": [
    {
     "name": "stdout",
     "output_type": "stream",
     "text": [
      "Best n_estimators: 10\n",
      "\n",
      "Question 10 Answer: 10\n"
     ]
    }
   ],
   "source": [
    "# Get the best n_estimators value\n",
    "best_n_estimators = grid_search.best_params_['n_estimators']\n",
    "\n",
    "print(f\"Best n_estimators: {best_n_estimators}\")\n",
    "print(f\"\\nQuestion 10 Answer: {best_n_estimators}\")"
   ]
  }
 ],
 "metadata": {
  "kernelspec": {
   "display_name": ".venv",
   "language": "python",
   "name": "python3"
  },
  "language_info": {
   "codemirror_mode": {
    "name": "ipython",
    "version": 3
   },
   "file_extension": ".py",
   "mimetype": "text/x-python",
   "name": "python",
   "nbconvert_exporter": "python",
   "pygments_lexer": "ipython3",
   "version": "3.13.7"
  }
 },
 "nbformat": 4,
 "nbformat_minor": 5
}
